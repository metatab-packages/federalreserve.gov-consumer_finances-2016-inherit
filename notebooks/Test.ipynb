{
 "cells": [
  {
   "cell_type": "code",
   "execution_count": 1,
   "metadata": {},
   "outputs": [],
   "source": [
    "import seaborn as sns\n",
    "import metapack as mp\n",
    "import pandas as pd\n",
    "import numpy as np\n",
    "import matplotlib.pyplot as plt\n",
    "from IPython.display import display \n",
    "\n",
    "%matplotlib inline\n",
    "sns.set_context('notebook')\n",
    "mp.jupyter.init()\n"
   ]
  },
  {
   "cell_type": "code",
   "execution_count": 2,
   "metadata": {},
   "outputs": [
    {
     "data": {
      "text/html": [
       "<h1>Survey of Consumer Finances, Inheritance Extract</h1>\n",
       "<p><code>federalreserve.gov-consumer_finances-2016e2019-inherit-1.2.5</code> Last Update: 2020-12-09T02:01:15</p>\n",
       "<p><em>An Extract from the survey of consumer finances for studying networth and ineritance, from multiple years</em></p>\n",
       "<p>This is an extract of the 2016 and 2019 Survey of Consumer Finances, with extracted variables\n",
       "and recoded variables oriented toward studying inheritance.</p>\n",
       "<h2>Images</h2>\n",
       "<p><a href=\"docs/networth_race_inc.png\"><img alt=\"doc_img\" src=\"docs/networth_race_inc.png\" title=\"networth_race_inc\" /></a></p>\n",
       "<p>Net Worth by Income Percentile and Race## Notes</p>\n",
       "<ul>\n",
       "<li>Version 1.2.2 Added the Inflatable flag</li>\n",
       "<li>Version 1.2.3 Inflated dollar ammounts to current dollars</li>\n",
       "</ul>\n",
       "<h2>Contacts</h2>\n",
       "<ul>\n",
       "<li><strong>Wrangler</strong> <a href=\"mailto:eric@civicknowledge.com\">Eric Busboom</a>, <a href=\"http://civicknowledge.com\">Civic Knowledge</a></li>\n",
       "</ul>\n",
       "<h2>Resources</h2>\n",
       "<ul>\n",
       "<li><strong> <a href=\"data/inherit_scf_16_19.csv\">inherit_scf_16_19</a></strong>. Extract of the 2016 and 2019 SCF for inheritance and networth</li>\n",
       "</ul>\n",
       "<h2>References</h2>\n",
       "<p><ul><li> <strong>scf</string>, <em>metapack+http://library.metatab.org/federalreserve.gov-consumer_finances-1.1.1.csv</em>. Survey of consumer finances data packages</li><li> <strong><a href=\"https://fred.stlouisfed.org/graph/fredgraph.csv?&id=CPIAUCSL\">cpi</a></strong>. Consumer Price Index</li><ul></p>"
      ],
      "text/plain": [
       "# Survey of Consumer Finances, Inheritance Extract\n",
       "`federalreserve.gov-consumer_finances-2016e2019-inherit-1.2.5` Last Update: 2020-12-09T02:01:15\n",
       "\n",
       "_An Extract from the survey of consumer finances for studying networth and ineritance, from multiple years_\n",
       "\n",
       "\n",
       "This is an extract of the 2016 and 2019 Survey of Consumer Finances, with extracted variables\n",
       "and recoded variables oriented toward studying inheritance.\n",
       "\n",
       "\n",
       " \n",
       "## Images\n",
       "\n",
       "[![doc_img](docs/networth_race_inc.png \"networth_race_inc\")](docs/networth_race_inc.png)\n",
       "\n",
       "Net Worth by Income Percentile and Race## Notes\n",
       "\n",
       "* Version 1.2.2 Added the Inflatable flag\n",
       "* Version 1.2.3 Inflated dollar ammounts to current dollars\n",
       "## Contacts\n",
       "\n",
       "* **Wrangler** [Eric Busboom](mailto:eric@civicknowledge.com), [Civic Knowledge](http://civicknowledge.com)\n",
       "\n",
       "## Resources\n",
       "\n",
       "* ** [inherit_scf_16_19](data/inherit_scf_16_19.csv)**. Extract of the 2016 and 2019 SCF for inheritance and networth\n",
       "\n",
       "## References\n",
       "<ul><li> <strong>scf</string>, <em>metapack+http://library.metatab.org/federalreserve.gov-consumer_finances-1.1.1.csv</em>. Survey of consumer finances data packages</li><li> <strong><a href=\"https://fred.stlouisfed.org/graph/fredgraph.csv?&id=CPIAUCSL\">cpi</a></strong>. Consumer Price Index</li><ul>\n"
      ]
     },
     "execution_count": 2,
     "metadata": {},
     "output_type": "execute_result"
    }
   ],
   "source": [
    "pkg = mp.jupyter.open_package()\n",
    "#pkg = mp.jupyter.open_source_package()\n",
    "pkg"
   ]
  },
  {
   "cell_type": "code",
   "execution_count": 5,
   "metadata": {},
   "outputs": [],
   "source": [
    "df = pkg.resource('inherit_scf_16_19').dataframe()"
   ]
  },
  {
   "cell_type": "code",
   "execution_count": 7,
   "metadata": {},
   "outputs": [
    {
     "data": {
      "text/plain": [
       "<MetapackDocumentUrl metapack+file:///Users/eric/proj/data-projects/metatab-packages/inequality-collection/federalreserve.gov-consumer_finances-2016-inherit/_packages/federalreserve.gov-consumer_finances-2016e2019-inherit-1.2.5/metadata.csv>"
      ]
     },
     "execution_count": 7,
     "metadata": {},
     "output_type": "execute_result"
    }
   ],
   "source": [
    "pkg.ref"
   ]
  },
  {
   "cell_type": "code",
   "execution_count": 6,
   "metadata": {},
   "outputs": [
    {
     "data": {
      "text/html": [
       "<div>\n",
       "<style scoped>\n",
       "    .dataframe tbody tr th:only-of-type {\n",
       "        vertical-align: middle;\n",
       "    }\n",
       "\n",
       "    .dataframe tbody tr th {\n",
       "        vertical-align: top;\n",
       "    }\n",
       "\n",
       "    .dataframe thead th {\n",
       "        text-align: right;\n",
       "    }\n",
       "</style>\n",
       "<table border=\"1\" class=\"dataframe\">\n",
       "  <thead>\n",
       "    <tr style=\"text-align: right;\">\n",
       "      <th></th>\n",
       "      <th>case_id</th>\n",
       "      <th>record_id</th>\n",
       "      <th>implicate_id</th>\n",
       "      <th>age_1</th>\n",
       "      <th>age_2</th>\n",
       "      <th>hisp</th>\n",
       "      <th>race</th>\n",
       "      <th>addtional_race</th>\n",
       "      <th>unusual_income</th>\n",
       "      <th>ed_1</th>\n",
       "      <th>...</th>\n",
       "      <th>n_transfer</th>\n",
       "      <th>any_transfer</th>\n",
       "      <th>any_inherit</th>\n",
       "      <th>hhsize</th>\n",
       "      <th>networthpc</th>\n",
       "      <th>assetpc</th>\n",
       "      <th>gi_pv_10</th>\n",
       "      <th>gi_pv_7</th>\n",
       "      <th>gi_pv_5</th>\n",
       "      <th>gi_value_cd</th>\n",
       "    </tr>\n",
       "    <tr>\n",
       "      <th>year</th>\n",
       "      <th></th>\n",
       "      <th></th>\n",
       "      <th></th>\n",
       "      <th></th>\n",
       "      <th></th>\n",
       "      <th></th>\n",
       "      <th></th>\n",
       "      <th></th>\n",
       "      <th></th>\n",
       "      <th></th>\n",
       "      <th></th>\n",
       "      <th></th>\n",
       "      <th></th>\n",
       "      <th></th>\n",
       "      <th></th>\n",
       "      <th></th>\n",
       "      <th></th>\n",
       "      <th></th>\n",
       "      <th></th>\n",
       "      <th></th>\n",
       "      <th></th>\n",
       "    </tr>\n",
       "  </thead>\n",
       "  <tbody>\n",
       "    <tr>\n",
       "      <th>2016</th>\n",
       "      <td>31240</td>\n",
       "      <td>31240</td>\n",
       "      <td>31240</td>\n",
       "      <td>31240</td>\n",
       "      <td>31240</td>\n",
       "      <td>31240</td>\n",
       "      <td>31240</td>\n",
       "      <td>31240</td>\n",
       "      <td>31240</td>\n",
       "      <td>31240</td>\n",
       "      <td>...</td>\n",
       "      <td>31240</td>\n",
       "      <td>31240</td>\n",
       "      <td>31240</td>\n",
       "      <td>31240</td>\n",
       "      <td>31240</td>\n",
       "      <td>31240</td>\n",
       "      <td>31240</td>\n",
       "      <td>31240</td>\n",
       "      <td>31240</td>\n",
       "      <td>31240</td>\n",
       "    </tr>\n",
       "    <tr>\n",
       "      <th>2019</th>\n",
       "      <td>28885</td>\n",
       "      <td>28885</td>\n",
       "      <td>28885</td>\n",
       "      <td>28885</td>\n",
       "      <td>28885</td>\n",
       "      <td>28885</td>\n",
       "      <td>28885</td>\n",
       "      <td>28885</td>\n",
       "      <td>28885</td>\n",
       "      <td>28885</td>\n",
       "      <td>...</td>\n",
       "      <td>28885</td>\n",
       "      <td>28885</td>\n",
       "      <td>28885</td>\n",
       "      <td>28885</td>\n",
       "      <td>28885</td>\n",
       "      <td>28885</td>\n",
       "      <td>28885</td>\n",
       "      <td>28885</td>\n",
       "      <td>28885</td>\n",
       "      <td>28885</td>\n",
       "    </tr>\n",
       "  </tbody>\n",
       "</table>\n",
       "<p>2 rows × 91 columns</p>\n",
       "</div>"
      ],
      "text/plain": [
       "      case_id  record_id  implicate_id  age_1  age_2   hisp   race  \\\n",
       "year                                                                 \n",
       "2016    31240      31240         31240  31240  31240  31240  31240   \n",
       "2019    28885      28885         28885  28885  28885  28885  28885   \n",
       "\n",
       "      addtional_race  unusual_income   ed_1  ...  n_transfer  any_transfer  \\\n",
       "year                                         ...                             \n",
       "2016           31240           31240  31240  ...       31240         31240   \n",
       "2019           28885           28885  28885  ...       28885         28885   \n",
       "\n",
       "      any_inherit  hhsize  networthpc  assetpc  gi_pv_10  gi_pv_7  gi_pv_5  \\\n",
       "year                                                                         \n",
       "2016        31240   31240       31240    31240     31240    31240    31240   \n",
       "2019        28885   28885       28885    28885     28885    28885    28885   \n",
       "\n",
       "      gi_value_cd  \n",
       "year               \n",
       "2016        31240  \n",
       "2019        28885  \n",
       "\n",
       "[2 rows x 91 columns]"
      ]
     },
     "execution_count": 6,
     "metadata": {},
     "output_type": "execute_result"
    }
   ],
   "source": [
    "df.groupby('year').count()"
   ]
  },
  {
   "cell_type": "code",
   "execution_count": null,
   "metadata": {},
   "outputs": [],
   "source": []
  }
 ],
 "metadata": {
  "kernelspec": {
   "display_name": "Python 3",
   "language": "python",
   "name": "python3"
  },
  "language_info": {
   "codemirror_mode": {
    "name": "ipython",
    "version": 3
   },
   "file_extension": ".py",
   "mimetype": "text/x-python",
   "name": "python",
   "nbconvert_exporter": "python",
   "pygments_lexer": "ipython3",
   "version": "3.7.6"
  }
 },
 "nbformat": 4,
 "nbformat_minor": 4
}
