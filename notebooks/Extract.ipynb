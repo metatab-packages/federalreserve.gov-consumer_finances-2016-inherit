{
 "cells": [
  {
   "cell_type": "markdown",
   "metadata": {},
   "source": [
    "# Survey of Consumer Finances, Data Extraction\n",
    "\n",
    "This notebook will get the links to the SCL 2016 files from a Metatab package and build\n",
    "a dataset we can use for analysis.\n"
   ]
  },
  {
   "cell_type": "code",
   "execution_count": 1,
   "metadata": {},
   "outputs": [],
   "source": [
    "import seaborn as sns\n",
    "import metapack as mp\n",
    "import pandas as pd\n",
    "import numpy as np\n",
    "import matplotlib.pyplot as plt\n",
    "from IPython.display import display \n",
    "from pathlib import Path\n",
    "\n",
    "%matplotlib inline\n",
    "sns.set_context('notebook')\n",
    "mp.jupyter.init()\n"
   ]
  },
  {
   "cell_type": "code",
   "execution_count": 2,
   "metadata": {},
   "outputs": [
    {
     "data": {
      "text/html": [
       "<h1>Survey of Consumer Finances, Inheritance Extract</h1>\n",
       "<p><code>federalreserve.gov-consumer_finances-2016-inherit-1.1.1</code> Last Update: 2020-08-19T16:15:55</p>\n",
       "<p><em>An Extract from the survey of consumer finances for studying networth and ineritance</em></p>\n",
       "<h2>Contacts</h2>\n",
       "<ul>\n",
       "<li><strong>Wrangler</strong> <a href=\"mailto:eric@civicknowledge.com\">Eric Busboom</a>, <a href=\"http://civicknowledge.com\">Civic Knowledge</a></li>\n",
       "</ul>\n",
       "<h2>References</h2>\n",
       "<p><ul><li> <strong><a href=\"https://www.federalreserve.gov/econres/files/scf2016s.zip#p16i6.dta\">scf_public_16</a></strong>. Survey of consumer finances, full public dataset, 2016</li><li> <strong><a href=\"https://www.federalreserve.gov/econres/files/scfp2016s.zip#rscfp2016.dta\">scf_extract_16</a></strong>. Survey of consumer finances, public extract, 2016</li><li> <strong><a href=\"https://www.federalreserve.gov/econres/files/scf2016rw1s.zip#p16_rw1.dta\">scf_weights_16</a></strong>. Survey of consumer finances, replicate weights, 2016</li><ul></p>"
      ],
      "text/plain": [
       "# Survey of Consumer Finances, Inheritance Extract\n",
       "`federalreserve.gov-consumer_finances-2016-inherit-1.1.1` Last Update: 2020-08-19T16:15:55\n",
       "\n",
       "_An Extract from the survey of consumer finances for studying networth and ineritance_\n",
       "\n",
       "\n",
       "\n",
       "\n",
       " \n",
       "\n",
       "## Contacts\n",
       "\n",
       "* **Wrangler** [Eric Busboom](mailto:eric@civicknowledge.com), [Civic Knowledge](http://civicknowledge.com)\n",
       "\n",
       "\n",
       "## References\n",
       "<ul><li> <strong><a href=\"https://www.federalreserve.gov/econres/files/scf2016s.zip#p16i6.dta\">scf_public_16</a></strong>. Survey of consumer finances, full public dataset, 2016</li><li> <strong><a href=\"https://www.federalreserve.gov/econres/files/scfp2016s.zip#rscfp2016.dta\">scf_extract_16</a></strong>. Survey of consumer finances, public extract, 2016</li><li> <strong><a href=\"https://www.federalreserve.gov/econres/files/scf2016rw1s.zip#p16_rw1.dta\">scf_weights_16</a></strong>. Survey of consumer finances, replicate weights, 2016</li><ul>\n"
      ]
     },
     "execution_count": 2,
     "metadata": {},
     "output_type": "execute_result"
    }
   ],
   "source": [
    "#pkg = mp.jupyter.open_package()\n",
    "pkg = mp.jupyter.open_source_package()\n",
    "pkg"
   ]
  },
  {
   "cell_type": "code",
   "execution_count": 3,
   "metadata": {},
   "outputs": [],
   "source": [
    "# Main variables\n",
    "scf = pkg.reference('scf_public_16').dataframe()\n",
    "\n",
    "# Extract file. The variables in this file are created by a SAS macro, which is\n",
    "# the best (only?) documentation for the meaning of the variable\n",
    "# https://www.federalreserve.gov/econres/files/bulletin.macro.txt\n",
    "\n",
    "scfe = pkg.reference('scf_extract_16').dataframe()\n",
    "scfe.columns = [c.lower() for c in scfe.columns]\n",
    "\n",
    "mm_cols = [ f\"MM{i}\" for i in range(1,1000) ]\n",
    "wt_cols = [ f\"WT1B{i}\" for i in range(1,1000)]\n",
    "\n",
    "\n",
    "# Extract and rename a set of columns we are interested in \n",
    "cols = {\n",
    "    'case_id': 'YY1',\n",
    "    'record_id': 'Y1',\n",
    "    'age_1': 'X14', # Reconciled age\n",
    "    'age_2': 'X19', # Reconciled age\n",
    "    'hisp': 'X7004', # Do you consider yourself to be Hispanic or Latino in culture or origin?\n",
    "    'race': 'X6809', # Race of respondent\n",
    "    'addtional_race': 'X6810', # Respondent offered another race categot (1) or did not (5)\n",
    "    # X6402 #In 2015, did (other adult) receive any income from wages or salaries?\n",
    "    #'income': 'X5729', # How much was the total income you (and your family living here) received in 2015 from all sources, before taxes and other deductions were made?\n",
    "    'unusual_income': 'X7650', # Is this income unusually high or low...\n",
    "    'ed_1': 'X5931', # What is the highest level of school completed or the highest degree you have received?\n",
    "    'ed_2': 'X6111', # What is the highest level of school completed or the highest degree you have received?\n",
    "    'ed_mother_1': 'X6032', # What is the highest level of school or the highest degree mother completed?\n",
    "    'ed_father_1': 'X6033', # What is the highest level of school or the highest degree father completed?\n",
    "    'ed_mother_2': 'X6132', # What is the highest level of school or the highest degree mother completed?\n",
    "    'ed_father_2': 'X6133', # What is the highest level of school or the highest degree father completed?  \n",
    "    'occ_1': 'X7401', # What is the official title of your job?\n",
    "    'occ_2': 'X7411', # What is the official title of your job?\n",
    "    'gi_other_value': 'X5818', #How much altogether were any others (inheritances) you have received?\n",
    "    'fin_risk': 'X7557', # Willingness to take fnancial risks, 1 to 10\n",
    "    'shop_credit' : 'X7561', # Financial shopping\n",
    "    'shop_credit_2' : 'X7562', # Financial Shopping\n",
    "    'fin_know': 'X7556', # Financial Knowledge\n",
    "    'borrow_vacation': 'X402', # Borrow for a vacation\n",
    "    'plan_horizon': 'X3008', # which of the time periods listed on this page is most important to you\n",
    "    'spend_exceeds':'X7510', # would you say that your (family's) spending exceeded your (family's) income,\n",
    "    'spend_exceeds_excl_house':'X7508', # Spending exceeds, after purchase of house. \n",
    "    'wt0': 'X42001' # Weight\n",
    "    \n",
    "}\n",
    "\n",
    "# There are three ( four actually) set os variables for gifts and transfers, \n",
    "# We'll ignore the fourth, because it is rare. \n",
    "\n",
    "gi_cols_packed = {\n",
    "    'gi_type':  'X5803 X5808 X5813'.split(), # Was that an inheritance, a trust, or something else?\n",
    "    'gi_value': 'X5804 X5809 X5814'.split(), # What was its approximate value at the time it was received?\n",
    "    'gi_year':  'X5805 X5810 X5815'.split(), # In what year was it received?\n",
    "    'gi_from':  'X5806 X5811 X5816'.split(), # From whom was it received?\n",
    "}\n",
    "\n",
    "gi_cols = {}\n",
    "for i in range(1,4):\n",
    "    for k, c in gi_cols_packed.items():\n",
    "        cols[f\"{k}_{i}\"] = c[i-1]\n",
    "\n",
    "# Map the column names\n",
    "\n",
    "df =  scf[cols.values()].rename(columns={v:k for k,v in cols.items()})\n",
    "\n",
    "# Sum up all of the gifts/transfers. \n",
    "df['gi_sum'] = df[['gi_value_1', 'gi_value_2', 'gi_value_3']].sum(axis=1)\n",
    "df['gi_sum'] = df.gi_sum.mask(df.gi_sum<0, 0) # Remove -9 and -1 values \n",
    "\n",
    "\n",
    "# make the implicate number\n",
    "df.insert(2, 'implicate_id', df.record_id - df.case_id.astype('int32')*10)   \n",
    "    \n"
   ]
  },
  {
   "cell_type": "code",
   "execution_count": 4,
   "metadata": {},
   "outputs": [],
   "source": [
    "# Create more meaningful categoricals for some variables. \n",
    "\n",
    "df['race'] = df['race'].astype('category').cat.rename_categories({-7: 'other', 1: 'white', 2: 'black', 3: 'hisp', 4: 'asian', 5: 'aian', 6: 'nhpi'})\n",
    "    \n",
    "for c in \"gi_type_1 gi_type_2 gi_type_3\".split():\n",
    "    df[c] = df[c].astype('category').cat.rename_categories({0: 'na', 1: 'inheritance', 2: 'trust', 3: 'gift'})\n",
    "\n",
    "bc = pd.CategoricalDtype(ordered=True)\n",
    "\n",
    "for c in \"ed_1 ed_2 ed_mother_1 ed_mother_2 ed_father_1 ed_father_2\".split():\n",
    "    df[c] = df[c].astype(bc).cat.rename_categories(\n",
    "        {-1: 'lt_grade_1', 0: 'na', 1: 'grade_1_4', 2: 'grade_5_6', 3: 'grade_7_8', 4: 'grade_9', 5: 'grade_10', 6: 'grade_11', 7: 'grade_12', \n",
    "         8: 'hs', 9: 'some_college', 10: 'assoc_vocational', 11: 'assoc_academic', 12: 'bachelors', 13: 'masters', 14: 'advanced'})\n",
    "\n",
    "df['education'] = df[['ed_1','ed_2']].replace({0:7}).min(axis=1)\n",
    "\n",
    "df['occ'] = df[['occ_1','occ_2']].replace({0:7}).min(axis=1)\n"
   ]
  },
  {
   "cell_type": "code",
   "execution_count": 5,
   "metadata": {},
   "outputs": [],
   "source": [
    "# Extract some variables from the public extract file. These variables\n",
    "# already have sensible names. \n",
    "scf_ext = scfe[['y1','networth',  'income', 'nwcat', 'nwpctlecat', \n",
    "                'norminc', 'ninccat',  'ninc2cat', 'nincpctlecat',\n",
    "                'occat1', 'occat2', 'edcl', 'lifecl', 'famstruct', 'married',  'agecl', 'housecl', 'racecl','racecl4',\n",
    "                'asset', 'liq','bond', 'fin','nfin', 'debt', 'indcat', 'equity','homeeq', 'revpay','bnkruplast5', 'debt2inc', 'hsaving' , 'saved'\n",
    "               ]].rename(columns={'y1':'record_id'})\n",
    "\n",
    "df = df.merge(scf_ext, on='record_id')\n",
    "\n",
    "# Long-term planners, for plan_horizon/X3008 answered \"next few years\" or longer\n",
    "df['lt_planner'] = df.plan_horizon.isin([3,4,5]).astype(int)\n",
    "\n",
    "df['agecl'] = df.agecl.astype('category').cat.rename_categories({1:'<35', 2:'35-44', 3:'45-54', 4:'55-64', 5:'65-74', 6:'>=75'})\n",
    "df['edcl'] = df.edcl.astype('category').cat.rename_categories({1:'No HS', 2:'HS/GED', 3:'Some College', 4:'College'})\n",
    "\n",
    "# Income and networth percentiles\n",
    "df['nincpctle'] = df.nincpctlecat.astype(bc).cat.rename_categories([0, 10, 20, 30, 40, 50, 60, 70, 80, 90, 95, 99])\n",
    "df['ninc'] = df.ninccat.astype(bc).cat.rename_categories([0,20,40,60,80,90])\n",
    "df['nwpctle'] = df.nwpctlecat.astype(bc).cat.rename_categories([0, 10, 20, 30, 40, 50, 60, 70, 80, 90, 95, 99])\n"
   ]
  },
  {
   "cell_type": "code",
   "execution_count": 6,
   "metadata": {},
   "outputs": [],
   "source": [
    "# Create summary variables for the number of each type of gift/transfer. This part is expensive. \n",
    "t = df[['case_id','record_id',\n",
    "        'gi_type_1', 'gi_type_2', 'gi_type_3',\n",
    "        'gi_value_1', 'gi_value_2', 'gi_value_3',\n",
    "        'gi_year_1', 'gi_year_2', 'gi_year_3'\n",
    "       ]].set_index(['case_id','record_id'])\n",
    "\n",
    "def n_inherit_types(r):\n",
    "    return r[['gi_type_1', 'gi_type_2', 'gi_type_3']].value_counts()\n",
    "\n",
    "nit = df.apply(n_inherit_types, axis=1).fillna(0)\n",
    "\n",
    "df['n_gift'] = nit.gift.astype(int)\n",
    "df['n_inherit'] = nit.inheritance.astype(int)\n",
    "df['n_trust'] = nit.trust.astype(int)\n",
    "df['n_transfer'] = df['n_gift'] + df['n_inherit'] + df['n_trust']\n",
    "\n",
    "df['any_transfer'] = (df.n_transfer > 0).astype(int)\n",
    "df['any_inherit'] = (df.n_inherit > 0).astype(int)\n",
    "\n"
   ]
  },
  {
   "cell_type": "code",
   "execution_count": 11,
   "metadata": {},
   "outputs": [],
   "source": [
    "df.to_csv('../data/inherit_scf_16.csv', index=False) "
   ]
  },
  {
   "cell_type": "code",
   "execution_count": null,
   "metadata": {},
   "outputs": [],
   "source": []
  }
 ],
 "metadata": {
  "kernelspec": {
   "display_name": "Python 3",
   "language": "python",
   "name": "python3"
  },
  "language_info": {
   "codemirror_mode": {
    "name": "ipython",
    "version": 3
   },
   "file_extension": ".py",
   "mimetype": "text/x-python",
   "name": "python",
   "nbconvert_exporter": "python",
   "pygments_lexer": "ipython3",
   "version": "3.7.6"
  }
 },
 "nbformat": 4,
 "nbformat_minor": 4
}
