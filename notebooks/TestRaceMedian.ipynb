{
 "cells": [
  {
   "cell_type": "markdown",
   "metadata": {},
   "source": [
    "# Networth By Race\n",
    "\n",
    "This report from the [Federal Reserve](https://www.federalreserve.gov/econres/notes/feds-notes/disparities-in-wealth-by-race-and-ethnicity-in-the-2019-survey-of-consumer-finances-20200928.htm) reports the median networth by race for the 2019 SCL as $\\$$188,200 for whites. My calculation is $\\$$181,440. [An article from Jacobin](https://www.jacobinmag.com/2020/10/united-states-class-based-wealth-distribution) also gets $\\$$181,440. \n"
   ]
  },
  {
   "cell_type": "code",
   "execution_count": 26,
   "metadata": {},
   "outputs": [
    {
     "data": {
      "text/plain": [
       "x6809\n",
       "-7    193700.0\n",
       " 1    181440.0\n",
       " 2     20730.0\n",
       " 3     36180.0\n",
       "dtype: float64"
      ]
     },
     "execution_count": 26,
     "metadata": {},
     "output_type": "execute_result"
    }
   ],
   "source": [
    "import pandas as pd\n",
    "import weightedstats as ws\n",
    "  \n",
    "scf_url = 'https://www.federalreserve.gov/econres/files/scf2019s.zip#p19i6.dta'\n",
    "scfe_url = 'https://www.federalreserve.gov/econres/files/scfp2019s.zip#rscfp2019.dta'\n",
    "\n",
    "scf = rg.dataframe(scf_url)\n",
    "scfe = rg.dataframe(scfe_url)\n",
    "\n",
    "\n",
    "def wmedian(df, column_name, weights_name='wt0'):\n",
    "    return ws.weighted_median( df[column_name], weights=df[weights_name])\n",
    "  \n",
    "t = scf.join(scfe, rsuffix='_e')\n",
    "t.groupby('x6809').apply(wmedian,'networth', weights_name='x42001')\n"
   ]
  }
 ],
 "metadata": {
  "kernelspec": {
   "display_name": "Python 3",
   "language": "python",
   "name": "python3"
  },
  "language_info": {
   "codemirror_mode": {
    "name": "ipython",
    "version": 3
   },
   "file_extension": ".py",
   "mimetype": "text/x-python",
   "name": "python",
   "nbconvert_exporter": "python",
   "pygments_lexer": "ipython3",
   "version": "3.7.6"
  }
 },
 "nbformat": 4,
 "nbformat_minor": 4
}
